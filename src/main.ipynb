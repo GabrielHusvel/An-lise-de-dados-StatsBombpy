{
 "cells": [
  {
   "cell_type": "markdown",
   "metadata": {},
   "source": [
    "\n",
    "   1 - Preparar o ambiente de desenvolvimento:\n",
    "        Crie um ambiente virtual para seu projeto utilizando uma ferramenta como venv, virtualenv ou pipenv.\n",
    "        Instale as bibliotecas necessárias (Streamlit, statsbombpy, mplsoccer, matplotlib, entre outras).\n",
    "\n"
   ]
  },
  {
   "cell_type": "markdown",
   "metadata": {},
   "source": [
    "   2 - Estruturar o projeto:\n",
    "        Crie um repositório no GitHub para hospedar o código do seu projeto.\n",
    "        Garanta que o repositório contenha um arquivo requirements.txt com as dependências necessárias para rodar o projeto.\n",
    "        Organize o código de forma clara, criando funções separadas para carregar os dados, gerar as visualizações e construir a interface do dashboard.\n"
   ]
  },
  {
   "cell_type": "code",
   "execution_count": 4,
   "metadata": {},
   "outputs": [],
   "source": [
    "import streamlit as st\n",
    "import pandas as pd\n",
    "from statsbombpy import sb\n",
    "from mplsoccer import Pitch, VerticalPitch\n",
    "import matplotlib.pyplot as plt\n",
    "from matplotlib.animation import FuncAnimation\n",
    "import seaborn as sns\n"
   ]
  },
  {
   "cell_type": "code",
   "execution_count": 2,
   "metadata": {},
   "outputs": [],
   "source": [
    "def load_competitions():\n",
    "    return sb.competitions()\n",
    "\n",
    "def load_matches(comp_id, season_id):\n",
    "    return sb.matches(competition_id=comp_id, season_id=season_id)\n",
    "\n",
    "def load_events(match_id):\n",
    "    return sb.events(match_id=match_id)"
   ]
  },
  {
   "cell_type": "markdown",
   "metadata": {},
   "source": [
    "   3-  Definir a estrutura do dashboard:\n",
    "        Desenvolva uma interface interativa em Streamlit que permita ao usuário selecionar:\n",
    "            Um campeonato específico.\n",
    "            Uma temporada (ano).\n",
    "            Uma partida ou jogador para análise.\n",
    "        Organize o layout do dashboard em colunas, usando columns, sidebars, containers e tabs para melhorar a usabilidade.\n"
   ]
  },
  {
   "cell_type": "code",
   "execution_count": null,
   "metadata": {},
   "outputs": [],
   "source": [
    "\n",
    "# Título do App\n",
    "st.title('Análise de Dados do StatsBomb com Visualização de Campo')\n",
    "\n",
    "# Seção 1: Competitions\n",
    "st.subheader('1. Competições Disponíveis')\n",
    "competitions = sb.competitions()\n",
    "st.dataframe(competitions)\n",
    "\n",
    "# Selecionar Competição e Temporada\n",
    "st.sidebar.subheader('Selecione a Competição e a Temporada')\n",
    "competition_id = st.sidebar.selectbox(\n",
    "    'Escolha a Competição',\n",
    "    competitions['competition_name'].unique()\n",
    ")\n",
    "\n",
    "season_id = st.sidebar.selectbox(\n",
    "    'Escolha a Temporada',\n",
    "    competitions[competitions['competition_name'] == competition_id]['season_name'].unique()\n",
    ")\n",
    "\n",
    "# Obter IDs\n",
    "competition_selected = competitions[competitions['competition_name'] == competition_id]\n",
    "season_selected = competition_selected[competition_selected['season_name'] == season_id]\n",
    "comp_id = int(season_selected['competition_id'])\n",
    "season_id = int(season_selected['season_id'])\n",
    "\n",
    "# Seção 2: Matches\n",
    "st.sidebar.subheader('Selecione a Partida')\n",
    "matches = sb.matches(competition_id=comp_id, season_id=season_id)\n",
    "\n",
    "# Ordenar partidas por data\n",
    "matches = matches.sort_values(by='match_date')\n",
    "\n",
    "# Formatar as opções de seleção com a data da partida\n",
    "match_id = st.sidebar.selectbox(\n",
    "    'Escolha a Partida',\n",
    "    matches['match_id'].unique(),\n",
    "    format_func=lambda x: f\"{matches[matches['match_id'] == x]['home_team'].values[0]} vs {matches[matches['match_id'] == x]['away_team'].values[0]} - {matches[matches['match_id'] == x]['match_date'].values[0]}\"\n",
    ")\n",
    "\n",
    "\n",
    "# Seção 3: Lineups\n",
    "team_lineup = sb.lineups(match_id=match_id)\n",
    "\n",
    "# Criar uma lista de todos os jogadores disponíveis\n",
    "all_players = []\n",
    "for team, lineup in team_lineup.items():\n",
    "    st.write(f'**{team}**')\n",
    "    st.dataframe(lineup)\n",
    "    all_players.extend(lineup['player_name'].tolist())\n",
    "\n"
   ]
  },
  {
   "cell_type": "markdown",
   "metadata": {},
   "source": [
    "   4 - Obter dados e exibir informações básicas\n",
    "        Use a biblioteca StatsBombPy para carregar dados de competições, temporadas, partidas e jogadores.\n",
    "        Mostre, em uma página do dashboard, as seguintes informações:\n",
    "            Nome da competição, temporada e partida selecionada.\n",
    "            Estatísticas básicas da partida (gols, chutes, passes, etc.).\n",
    "            Um DataFrame exibindo os eventos da partida, como passes, finalizações e desarmes.\n"
   ]
  },
  {
   "cell_type": "code",
   "execution_count": null,
   "metadata": {},
   "outputs": [],
   "source": [
    "# Exibir Nome da Competição, Temporada e Partida Selecionada\n",
    "st.header(f\"Competição: {competition_id}\")\n",
    "st.subheader(f\"Temporada: {season_id}\")\n",
    "match_details = matches[matches['match_id'] == match_id].iloc[0]\n",
    "st.subheader(f\"Partida Selecionada: {match_details['home_team']} vs {match_details['away_team']}\")\n",
    "st.subheader(f'Escalações - Jogo {match_id}')\n",
    "\n",
    "# Seção 4: Eventos da Partida\n",
    "st.header('Eventos da Partida')\n",
    "\n",
    "# Carregar eventos da partida\n",
    "events = sb.events(match_id=match_id)\n",
    "\n",
    "# Filtrar eventos principais\n",
    "main_event_types = ['Pass', 'Shot', 'Duel', 'Foul', 'Clearance']\n",
    "filtered_events = events[events['type'].isin(main_event_types)]\n",
    "\n",
    "# Exibir um DataFrame com os eventos filtrados\n",
    "st.write(f\"Eventos principais da partida ({', '.join(main_event_types)})\")\n",
    "st.dataframe(filtered_events[['minute', 'second', 'type', 'player', 'team', 'location', 'pass_outcome', 'shot_outcome']])\n",
    "\n",
    "# Seção 5: Seleção de Jogador para Visualização\n",
    "st.sidebar.subheader('Selecione um Jogador para Visualizar Movimentação')\n",
    "player_name = st.sidebar.selectbox('Escolha o jogador para análise', all_players)\n",
    "\n",
    "# Verificar se a coluna 'player' existe e usá-la\n",
    "if 'player' in events.columns:\n",
    "    player_column = 'player'\n",
    "else:\n",
    "    st.error('A coluna \"player\" não foi encontrada nos dados de eventos.')\n",
    "    player_column = None\n",
    "\n",
    "if player_column:\n",
    "    # Filtrar eventos pelo jogador selecionado\n",
    "    player_events = events[events[player_column] == player_name]\n",
    "    \n",
    "    # Verificar se há eventos com localização válida\n",
    "    valid_events = player_events[player_events['location'].apply(lambda x: isinstance(x, list) and len(x) == 2)]\n",
    "\n",
    "    if valid_events.empty:\n",
    "        st.warning(f'Nenhum evento com localização válida encontrado para {player_name}.')\n",
    "    else:\n",
    "        st.subheader(f'Eventos de {player_name}')\n",
    "        st.dataframe(valid_events)\n",
    "\n",
    "\n"
   ]
  },
  {
   "cell_type": "markdown",
   "metadata": {},
   "source": [
    "   5 - Criar visualizações de dados\n",
    "        Utilize a biblioteca mplsoccer para gerar um mapa de passes e mapa de chutes para uma partida específica. Garanta que o gráfico seja interativo, com legendas e informações que ajudem a interpretar os dados.\n",
    "        Crie visualizações adicionais com Matplotlib e Seaborn para explorar relações entre as estatísticas de uma partida ou de um jogador (por exemplo, relação entre número de passes e gols).\n",
    "        Utilize a biblioteca mplsoccer para novas visualizações de acordo com sua galeria (https://mplsoccer.readthedocs.io/en/latest/gallery/index.html)\n"
   ]
  },
  {
   "cell_type": "code",
   "execution_count": null,
   "metadata": {},
   "outputs": [],
   "source": [
    "# Seção 5: Gráficos de Dados\n",
    "st.header('Visualizações Gráficas dos Eventos')\n",
    "\n",
    "# Seção 4: Controle de Tempo (Faixa de Minutos)\n",
    "st.sidebar.subheader('Controle de Tempo')\n",
    "\n",
    "# Filtrar o tempo máximo da partida para o slider\n",
    "max_minute = int(filtered_events['minute'].max())\n",
    "\n",
    "# Slider de faixa de tempo para selecionar intervalo mínimo e máximo\n",
    "selected_minute_range = st.sidebar.slider(\n",
    "    'Selecione o Intervalo de Minutos da Partida',\n",
    "    0, max_minute, (0, max_minute)  # Padrão: toda a partida\n",
    ")\n",
    "\n",
    "# Filtrar eventos dentro do intervalo de minutos selecionado\n",
    "filtered_events_in_range = filtered_events[\n",
    "    (filtered_events['minute'] >= selected_minute_range[0]) &\n",
    "    (filtered_events['minute'] <= selected_minute_range[1])\n",
    "]\n",
    "\n",
    "# Limpar os gráficos a cada nova seleção de tempo\n",
    "plt.clf()\n",
    "\n",
    "# Seção 5: Mapa de Passes em Sequência Temporal\n",
    "st.header('Mapa de Passes em Sequência Temporal')\n",
    "\n",
    "# Filtrar passes\n",
    "passes = filtered_events_in_range[filtered_events_in_range['type'] == 'Pass']\n",
    "\n",
    "# Criar o gráfico de campo\n",
    "pitch = Pitch(pitch_type='statsbomb', line_zorder=2, pitch_color='#22312b', line_color='white')\n",
    "fig, ax = pitch.draw(figsize=(10, 7))\n",
    "\n",
    "# Plotar passes dentro do intervalo selecionado\n",
    "for i, row in passes.iterrows():\n",
    "    if isinstance(row['location'], list) and isinstance(row['pass_end_location'], list):\n",
    "        pitch.arrows(row['location'][0], row['location'][1],\n",
    "                    row['pass_end_location'][0], row['pass_end_location'][1],\n",
    "                    ax=ax, width=2, headwidth=3, color='blue', alpha=0.6)\n",
    "        # Adicionar legenda com o jogador e o minuto do passe\n",
    "        ax.annotate(f\"{row['player']} ({row['minute']}')\", (row['location'][0], row['location'][1]), color='white', fontsize=8)\n",
    "\n",
    "# Exibir o gráfico\n",
    "st.pyplot(fig)\n",
    "\n",
    "# Seção 6: Mapa de Chutes\n",
    "st.header('Mapa de Chutes')\n",
    "\n",
    "# Filtrar chutes\n",
    "shots = filtered_events_in_range[filtered_events_in_range['type'] == 'Shot']\n",
    "\n",
    "# Criar o gráfico de campo para chutes\n",
    "fig, ax = pitch.draw(figsize=(10, 7))\n",
    "\n",
    "# Plotar os chutes dentro do intervalo selecionado\n",
    "for i, row in shots.iterrows():\n",
    "    if isinstance(row['location'], list):\n",
    "        pitch.scatter(row['location'][0], row['location'][1], ax=ax, s=100, color='red', edgecolor='black', alpha=0.7)\n",
    "        # Adicionar legenda com o jogador e o minuto do chute\n",
    "        ax.annotate(f\"{row['player']} ({row['minute']}')\", (row['location'][0], row['location'][1]), color='white', fontsize=8)\n",
    "\n",
    "# Exibir o gráfico\n",
    "st.pyplot(fig)\n",
    "\n",
    "# Seção 7: Mapa de Desarmes\n",
    "st.header('Mapa de Desarmes')\n",
    "\n",
    "# Filtrar desarmes (Duel event type)\n",
    "duels = filtered_events_in_range[filtered_events_in_range['type'] == 'Duel']\n",
    "\n",
    "# Criar o gráfico de campo para desarmes\n",
    "fig, ax = pitch.draw(figsize=(10, 7))\n",
    "\n",
    "# Plotar os desarmes dentro do intervalo selecionado\n",
    "for i, row in duels.iterrows():\n",
    "    if isinstance(row['location'], list):\n",
    "        pitch.scatter(row['location'][0], row['location'][1], ax=ax, s=100, color='green', edgecolor='black', alpha=0.7)\n",
    "        # Adicionar legenda com o jogador e o minuto do desarme\n",
    "        ax.annotate(f\"{row['player']} ({row['minute']}')\", (row['location'][0], row['location'][1]), color='white', fontsize=8)\n",
    "\n",
    "# Exibir o gráfico\n",
    "st.pyplot(fig)\n",
    "\n",
    "\n",
    "# Visualização de Chutes\n",
    "if 'Shot' in filtered_events['type'].values:\n",
    "    st.subheader(\"Distribuição de Chutes\")\n",
    "    shots = filtered_events[filtered_events['type'] == 'Shot']\n",
    "\n",
    "# Criar o campo com direção vertical para melhor visualização dos chutes\n",
    "pitch = VerticalPitch(pitch_type='statsbomb', half=True, pitch_color='#22312b', line_color='white')\n",
    "fig, ax = pitch.draw(figsize=(10, 7))\n",
    "\n",
    "# Plotar os chutes no campo\n",
    "for i, row in shots.iterrows():\n",
    "    x_start, y_start = row['location']\n",
    "    ax.scatter(x_start, y_start, color='red', s=100, edgecolors='black')\n",
    "\n",
    "ax.set_title('Distribuição de Chutes', fontsize=20)\n",
    "st.pyplot(fig)\n",
    "\n",
    "# Seção 6: 360 Frames (Se disponível)\n",
    "st.subheader(f'6. Frames 360° - Jogo {match_id}')\n",
    "if st.sidebar.checkbox('Incluir 360 Frames', value=False):\n",
    "    frames = sb.frames(match_id=match_id)\n",
    "    st.dataframe(frames.head(10))\n",
    "\n",
    "\n",
    "# Seção 8: DataFrame com os Eventos no Intervalo de Tempo Selecionado\n",
    "st.subheader('Dados dos Eventos no Intervalo de Tempo Selecionado')\n",
    "st.dataframe(filtered_events_in_range[['minute', 'type', 'player', 'team', 'location']])"
   ]
  },
  {
   "cell_type": "code",
   "execution_count": null,
   "metadata": {},
   "outputs": [],
   "source": [
    "# Criar gráfico de campo\n",
    "pitch = Pitch(pitch_type='statsbomb', line_zorder=2, pitch_color='#22312b', line_color='white')\n",
    "fig, ax = pitch.draw(figsize=(10, 7))\n",
    "\n",
    "# Plotar passes\n",
    "passes = filtered_events_in_range[filtered_events_in_range['type'] == 'Pass']\n",
    "for i, row in passes.iterrows():\n",
    "    pitch.arrows(row['location'][0], row['location'][1], row['pass_end_location'][0], row['pass_end_location'][1],\n",
    "                 ax=ax, width=2, headwidth=3, color='blue', alpha=0.6)\n",
    "    ax.annotate(f\"{row['player']} ({row['minute']}')\", (row['location'][0], row['location'][1]), color='white', fontsize=8)\n",
    "\n",
    "st.pyplot(fig)\n"
   ]
  },
  {
   "cell_type": "markdown",
   "metadata": {},
   "source": [
    "   6 - Adicionar interatividade\n",
    "        Adicione seletores de jogadores e botões de filtro que permitam ao usuário visualizar apenas eventos relacionados a um jogador específico.\n",
    "        Inclua botões de download que permitam ao usuário baixar os dados filtrados da partida em formato CSV.\n",
    "        Utilize barras de progresso e spinners para informar ao usuário que os dados estão sendo carregados ou processados.\n"
   ]
  },
  {
   "cell_type": "code",
   "execution_count": null,
   "metadata": {},
   "outputs": [],
   "source": [
    "# Selecionar jogador\n",
    "player_name = st.sidebar.selectbox('Escolha o jogador para análise', all_players)\n",
    "\n",
    "# Filtrar eventos pelo jogador\n",
    "player_events = events[events['player'] == player_name]\n",
    "st.dataframe(player_events)\n",
    "\n",
    "# Botão de download dos dados filtrados\n",
    "csv = player_events.to_csv(index=False)\n",
    "st.download_button(\"Baixar Dados Filtrados\", csv, \"player_events.csv\")\n"
   ]
  },
  {
   "cell_type": "markdown",
   "metadata": {},
   "source": [
    "   7 - Incluir métricas e indicadores\n",
    "        Exiba indicadores numéricos usando a função metric() do Streamlit para mostrar, por exemplo:\n",
    "            Total de gols da partida.\n",
    "            Quantidade de passes bem-sucedidos de um jogador.\n",
    "            Taxa de conversão de chutes em gol.\n",
    "        Personalize esses indicadores com cores que realcem os valores mais importantes.\n"
   ]
  },
  {
   "cell_type": "code",
   "execution_count": null,
   "metadata": {},
   "outputs": [],
   "source": [
    "# Métricas\n",
    "total_goals = len(events[events['shot_outcome'] == 'Goal'])\n",
    "successful_passes = len(passes[passes['pass_outcome'] == 'Complete'])\n",
    "shots = len(shots)\n",
    "conversion_rate = total_goals / shots if shots > 0 else 0\n",
    "\n",
    "# Exibir métricas\n",
    "st.metric(\"Total de Gols\", total_goals)\n",
    "st.metric(\"Passes Bem-Sucedidos\", successful_passes)\n",
    "st.metric(\"Taxa de Conversão de Chutes\", f\"{conversion_rate:.2%}\")\n"
   ]
  },
  {
   "cell_type": "markdown",
   "metadata": {},
   "source": [
    "   8 - Criar formulários interativos\n",
    "        Desenvolva formulários simples que permitam ao usuário escolher, por exemplo, a quantidade de eventos a serem visualizados, o intervalo de tempo de uma partida ou a comparação entre dois jogadores.\n",
    "        Use elementos como caixas de texto, dropdowns, radio buttons e checkboxes para tornar a interação mais fluida.\n"
   ]
  },
  {
   "cell_type": "code",
   "execution_count": null,
   "metadata": {},
   "outputs": [],
   "source": [
    "# Formulário para selecionar intervalo de tempo\n",
    "selected_minute_range = st.sidebar.slider('Selecione o Intervalo de Minutos da Partida', 0, max_minute, (0, max_minute))\n",
    "\n",
    "# Filtrar eventos no intervalo selecionado\n",
    "filtered_events_in_range = filtered_events[\n",
    "    (filtered_events['minute'] >= selected_minute_range[0]) &\n",
    "    (filtered_events['minute'] <= selected_minute_range[1])\n",
    "]\n",
    "st.dataframe(filtered_events_in_range)\n"
   ]
  },
  {
   "cell_type": "markdown",
   "metadata": {},
   "source": [
    "   9 - Implementar funcionalidades avançadas\n",
    "        Utilize o Cache do Streamlit para otimizar o carregamento de dados, especialmente se estiver utilizando bases de dados grandes.\n",
    "        Armazene o estado da sessão do usuário utilizando Session State, garantindo que a interação do usuário não seja perdida quando ele navegar entre páginas.\n"
   ]
  },
  {
   "cell_type": "code",
   "execution_count": null,
   "metadata": {},
   "outputs": [],
   "source": [
    "@st.cache\n",
    "def load_events(match_id):\n",
    "    return sb.events(match_id=match_id)\n"
   ]
  },
  {
   "cell_type": "markdown",
   "metadata": {},
   "source": [
    "   10 - Publicar o projeto\n",
    "        Realize o deploy da aplicação utilizando o Streamlit Community Cloud. Verifique se o deploy foi bem-sucedido e que todas as funcionalidades estão funcionando conforme esperado.\n",
    "        Compartilhe o link da aplicação publicada e o repositório no GitHub."
   ]
  },
  {
   "cell_type": "code",
   "execution_count": null,
   "metadata": {},
   "outputs": [],
   "source": [
    "from statsbombpy import sb\n",
    "\n",
    "# Carregar dados de competições\n",
    "competitions = sb.competitions()\n",
    "st.dataframe(competitions)\n"
   ]
  },
  {
   "cell_type": "code",
   "execution_count": null,
   "metadata": {},
   "outputs": [],
   "source": [
    "from mplsoccer import Pitch\n",
    "\n",
    "# Criar o campo de futebol\n",
    "pitch = Pitch()\n",
    "fig, ax = pitch.draw()\n",
    "\n",
    "# Exemplos de passes\n",
    "passes = [(10, 20, 30, 40), (20, 25, 50, 60)]\n",
    "for p in passes:\n",
    "    pitch.arrows(p[0], p[1], p[2], p[3], ax=ax)\n",
    "\n",
    "st.pyplot(fig)\n"
   ]
  },
  {
   "cell_type": "code",
   "execution_count": 5,
   "metadata": {},
   "outputs": [
    {
     "name": "stderr",
     "output_type": "stream",
     "text": [
      "2024-10-02 01:36:44.910 Thread 'MainThread': missing ScriptRunContext! This warning can be ignored when running in bare mode.\n",
      "2024-10-02 01:36:44.911 Thread 'MainThread': missing ScriptRunContext! This warning can be ignored when running in bare mode.\n",
      "2024-10-02 01:36:44.911 Thread 'MainThread': missing ScriptRunContext! This warning can be ignored when running in bare mode.\n",
      "2024-10-02 01:36:44.911 Thread 'MainThread': missing ScriptRunContext! This warning can be ignored when running in bare mode.\n"
     ]
    },
    {
     "data": {
      "text/plain": [
       "DeltaGenerator()"
      ]
     },
     "execution_count": 5,
     "metadata": {},
     "output_type": "execute_result"
    }
   ],
   "source": [
    "st.metric(label=\"Gols\", value=3, delta=1)\n",
    "st.metric(label=\"Passes bem-sucedidos\", value=85)\n"
   ]
  },
  {
   "cell_type": "code",
   "execution_count": null,
   "metadata": {},
   "outputs": [],
   "source": [
    "intervalo = st.slider('Intervalo de tempo', 0, 90, (15, 75))\n"
   ]
  },
  {
   "cell_type": "code",
   "execution_count": null,
   "metadata": {},
   "outputs": [],
   "source": [
    "@st.cache\n",
    "def load_data():\n",
    "    return sb.competitions()\n"
   ]
  }
 ],
 "metadata": {
  "kernelspec": {
   "display_name": ".venv",
   "language": "python",
   "name": "python3"
  },
  "language_info": {
   "codemirror_mode": {
    "name": "ipython",
    "version": 3
   },
   "file_extension": ".py",
   "mimetype": "text/x-python",
   "name": "python",
   "nbconvert_exporter": "python",
   "pygments_lexer": "ipython3",
   "version": "3.12.4"
  }
 },
 "nbformat": 4,
 "nbformat_minor": 2
}
